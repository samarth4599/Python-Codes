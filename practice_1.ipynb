{
 "cells": [
  {
   "cell_type": "markdown",
   "metadata": {},
   "source": [
    "## PYTHON CODES"
   ]
  },
  {
   "cell_type": "markdown",
   "metadata": {},
   "source": [
    "## 1. Sum of complex numbers"
   ]
  },
  {
   "cell_type": "code",
   "execution_count": 1,
   "metadata": {},
   "outputs": [
    {
     "name": "stdout",
     "output_type": "stream",
     "text": [
      "1\n",
      "2\n",
      "3\n",
      "4\n",
      "(4+6j)\n"
     ]
    }
   ],
   "source": [
    "a,b,c,d=int(input()),int(input()),int(input()),int(input())\n",
    "print(complex(a,b)+complex(c,d))"
   ]
  },
  {
   "cell_type": "markdown",
   "metadata": {},
   "source": [
    "## 2.concatenate"
   ]
  },
  {
   "cell_type": "code",
   "execution_count": null,
   "metadata": {},
   "outputs": [],
   "source": [
    "a,b = input().split()\n",
    "print(a+b)\n",
    "print(a+\" \"+b)"
   ]
  },
  {
   "cell_type": "markdown",
   "metadata": {},
   "source": [
    "## 3.string multiplication"
   ]
  },
  {
   "cell_type": "code",
   "execution_count": 6,
   "metadata": {},
   "outputs": [
    {
     "name": "stdout",
     "output_type": "stream",
     "text": [
      "abc\n",
      "3\n",
      "abcabcabc\n",
      "abc3\n"
     ]
    }
   ],
   "source": [
    "a,b=input(),int(input())\n",
    "print(a*b)\n",
    "print(a+str(b))"
   ]
  },
  {
   "cell_type": "markdown",
   "metadata": {},
   "source": [
    "## 4.type"
   ]
  },
  {
   "cell_type": "code",
   "execution_count": 1,
   "metadata": {},
   "outputs": [
    {
     "name": "stdout",
     "output_type": "stream",
     "text": [
      "<class 'int'> <class 'str'> <class 'float'> <class 'complex'>\n"
     ]
    }
   ],
   "source": [
    "a=2\n",
    "b=\"d\"\n",
    "c=3.00\n",
    "d=1+2j\n",
    "print(type(a), type(b) ,type(c), type(d))"
   ]
  },
  {
   "cell_type": "markdown",
   "metadata": {},
   "source": [
    "## 5. backslash"
   ]
  },
  {
   "cell_type": "code",
   "execution_count": 44,
   "metadata": {},
   "outputs": [
    {
     "name": "stdout",
     "output_type": "stream",
     "text": [
      "whats \\ up?\n",
      "whats \\\\ up?\n",
      "hey#hello@\n",
      " bc\n",
      "foiwefklejflkedcba\n",
      "bdk\n"
     ]
    }
   ],
   "source": [
    "print(\"whats \\\\ up?\")\n",
    "print(R\"whats \\\\ up?\")\n",
    "print(\"hey\",\"hello\", sep='#', end='@')\n",
    "a='abcdeklfjelkfewiof'\n",
    "print('\\n',a[1:3])#slicing\n",
    "print(a[::-1])#reverse\n",
    "print(a[1:7: 2])#skipping"
   ]
  },
  {
   "cell_type": "code",
   "execution_count": 34,
   "metadata": {},
   "outputs": [
    {
     "name": "stdout",
     "output_type": "stream",
     "text": [
      "64\n"
     ]
    }
   ],
   "source": [
    "for i in range(ord('@'),ord('A')):\n",
    "    print(i)"
   ]
  },
  {
   "cell_type": "markdown",
   "metadata": {},
   "source": [
    "# 29/7/19"
   ]
  },
  {
   "cell_type": "markdown",
   "metadata": {},
   "source": [
    "## basic formatting"
   ]
  },
  {
   "cell_type": "code",
   "execution_count": 4,
   "metadata": {},
   "outputs": [
    {
     "name": "stdout",
     "output_type": "stream",
     "text": [
      "5 5.900000     dffd\n"
     ]
    }
   ],
   "source": [
    "a=5\n",
    "b=5.9\n",
    "c='dffd'\n",
    "print(\"%d %f     %s\" %(a, b,c))"
   ]
  },
  {
   "cell_type": "code",
   "execution_count": 6,
   "metadata": {},
   "outputs": [
    {
     "name": "stdout",
     "output_type": "stream",
     "text": [
      "one two\n"
     ]
    }
   ],
   "source": [
    "print('{} {}'.format('one','two'))"
   ]
  },
  {
   "cell_type": "code",
   "execution_count": 10,
   "metadata": {},
   "outputs": [
    {
     "name": "stdout",
     "output_type": "stream",
     "text": [
      "1 2.0\n"
     ]
    }
   ],
   "source": [
    "print('{} {}'.format(1,2.0))"
   ]
  },
  {
   "cell_type": "code",
   "execution_count": 13,
   "metadata": {},
   "outputs": [
    {
     "name": "stdout",
     "output_type": "stream",
     "text": [
      "dffd 5  5.9\n"
     ]
    }
   ],
   "source": [
    "a=5\n",
    "b=5.9\n",
    "c='dffd'\n",
    "print('{2} {0}  {1}'.format(a,b,c))"
   ]
  },
  {
   "cell_type": "code",
   "execution_count": 40,
   "metadata": {},
   "outputs": [
    {
     "name": "stdout",
     "output_type": "stream",
     "text": [
      "hi       test hi\n",
      "hi      test hi\n",
      "hi   test    hi\n",
      "hi______test hi********\n",
      "ohbal\n",
      "yo ohbal      yo\n",
      "testt\n",
      "ohbal\n"
     ]
    }
   ],
   "source": [
    "print('hi %10s hi'%('test'))\n",
    "print('hi{:>10} hi'.format('test'))\n",
    "print('hi{:^10} hi'.format('test'))#for equal spacing\n",
    "print('hi{:_>10} {:*<10}'.format('test','hi'))#For padding\n",
    "print('{:.5}'.format('ohballe'))\n",
    "print('yo {:10.5} yo'.format('ohballe'))\n",
    "\n",
    "print('%.5s'%('testtest'))\n",
    "v='{:.5}'.format('ohballe')\n",
    "print(v)\n",
    "wap which willl "
   ]
  },
  {
   "cell_type": "code",
   "execution_count": 43,
   "metadata": {},
   "outputs": [
    {
     "name": "stdout",
     "output_type": "stream",
     "text": [
      "003.15\n"
     ]
    }
   ],
   "source": [
    "print('{:06.2f}'.format(3.14567890))\n"
   ]
  },
  {
   "cell_type": "code",
   "execution_count": null,
   "metadata": {},
   "outputs": [],
   "source": [
    "#define no which are divisible by 7 but not are multiple of 5 bw 2000 to 3200. print thr no in the form of comma separted seq\n",
    "#wap that calc and prints acc to the goven formula sqrt(2cd/h).the following fixed values of c=50,h=30,d=input().sample i/p 100,150,180 and o/p is 18,22,24.comma sep"
   ]
  },
  {
   "cell_type": "code",
   "execution_count": 50,
   "metadata": {},
   "outputs": [
    {
     "name": "stdout",
     "output_type": "stream",
     "text": [
      "2002,2009,2016,2023,2037,2044,2051,2058,2072,2079,2086,2093,2107,2114,2121,2128,2142,2149,2156,2163,2177,2184,2191,2198,2212,2219,2226,2233,2247,2254,2261,2268,2282,2289,2296,2303,2317,2324,2331,2338,2352,2359,2366,2373,2387,2394,2401,2408,2422,2429,2436,2443,2457,2464,2471,2478,2492,2499,2506,2513,2527,2534,2541,2548,2562,2569,2576,2583,2597,2604,2611,2618,2632,2639,2646,2653,2667,2674,2681,2688,2702,2709,2716,2723,2737,2744,2751,2758,2772,2779,2786,2793,2807,2814,2821,2828,2842,2849,2856,2863,2877,2884,2891,2898,2912,2919,2926,2933,2947,2954,2961,2968,2982,2989,2996,3003,3017,3024,3031,3038,3052,3059,3066,3073,3087,3094,3101,3108,3122,3129,3136,3143,3157,3164,3171,3178,3192,3199\n"
     ]
    }
   ],
   "source": [
    "for i in range(2000,3201):\n",
    "    if i%7==0 and i%5!=0:\n",
    "        if i == 3199:\n",
    "            print(i)\n",
    "        else:\n",
    "            print(i,end=',')"
   ]
  },
  {
   "cell_type": "code",
   "execution_count": 58,
   "metadata": {},
   "outputs": [
    {
     "name": "stdout",
     "output_type": "stream",
     "text": [
      "100,150,180\n",
      "5.477225575051661\n",
      "4.47213595499958\n",
      "4.08248290463863\n"
     ]
    }
   ],
   "source": [
    "\n",
    "import math\n",
    "a,b,d=input().split(',')\n",
    "c=50\n",
    "h=30\n",
    "q1=(2*c*h)/int(a)\n",
    "q2=(2*c*h)/int(b)\n",
    "q3=(2*c*h)/int(d)\n",
    "ans=math.sqrt(q1)\n",
    "ans1=math.sqrt(q2)\n",
    "ans2=math.sqrt(q3)\n",
    "\n",
    "print(ans)\n",
    "print(ans1)\n",
    "print(ans2)"
   ]
  },
  {
   "cell_type": "markdown",
   "metadata": {},
   "source": [
    "### Q1 wap that accepts a comma sep words and print the words in comma seq after sorting them in alphabetical order"
   ]
  },
  {
   "cell_type": "code",
   "execution_count": 20,
   "metadata": {},
   "outputs": [
    {
     "name": "stdout",
     "output_type": "stream",
     "text": [
      "ho,lo,ko,go\n",
      "['lo', 'ko', 'ho', 'go']\n"
     ]
    }
   ],
   "source": [
    "a=input().split(',')\n",
    "for i in range(len(a)):\n",
    "    for j in range(len(a)):\n",
    "        if a[i]>a[j]:\n",
    "            a[i],a[j]=a[j],a[i]\n",
    "print(a)"
   ]
  },
  {
   "cell_type": "markdown",
   "metadata": {},
   "source": [
    "### Q2 take an input from multiline string from user and wap to split a multiline string and print individual sstrings"
   ]
  },
  {
   "cell_type": "code",
   "execution_count": null,
   "metadata": {},
   "outputs": [],
   "source": []
  },
  {
   "cell_type": "markdown",
   "metadata": {},
   "source": [
    "### Q3 wap to generate abecedarcaan series. it is an series or list in which elements appear in alphabetical order.Take an input  from string ABCDEFGH and 'ate' and generate 'Aate' ,'Bate', 'Cate','Date'...etc"
   ]
  },
  {
   "cell_type": "code",
   "execution_count": 23,
   "metadata": {},
   "outputs": [
    {
     "name": "stdout",
     "output_type": "stream",
     "text": [
      "Enter a string ;sam\n",
      "abc\n",
      "sabc\n",
      "mabc\n",
      "aabc\n"
     ]
    }
   ],
   "source": [
    "a=input(\"Enter a string ;\")\n",
    "b=input()\n",
    "c=list(a)\n",
    "for i in range(len(c)):\n",
    "    for j in range(len(c)):\n",
    "        if c[i]>c[j]:\n",
    "            c[i],c[j]=c[j],c[i]\n",
    "for i in range(len(c)):\n",
    "    print(c[i]+b)"
   ]
  },
  {
   "cell_type": "markdown",
   "metadata": {},
   "source": [
    "### Q4 wap that accepts string from the user and redisplay the string after removing vowwels from it"
   ]
  },
  {
   "cell_type": "code",
   "execution_count": 9,
   "metadata": {},
   "outputs": [
    {
     "name": "stdout",
     "output_type": "stream",
     "text": [
      "Enter string: abcde\n",
      "b c d "
     ]
    }
   ],
   "source": [
    "a=input('Enter string: ')\n",
    "for i in a:\n",
    "    if i =='a' or i=='e' or i=='i' or i=='o'or i=='u':\n",
    "        continue\n",
    "    else:\n",
    "        print(i,end=\" \")"
   ]
  },
  {
   "cell_type": "markdown",
   "metadata": {},
   "source": [
    "### wap that finfds a given char is present in a string or not ; if yes then print the index at which it is present; Do not use built in find fn"
   ]
  },
  {
   "cell_type": "code",
   "execution_count": 26,
   "metadata": {},
   "outputs": [
    {
     "name": "stdout",
     "output_type": "stream",
     "text": [
      "String: samrth\n",
      "characterr\n",
      "char found at  3\n"
     ]
    }
   ],
   "source": [
    "a=input(\"String: \")\n",
    "b=input(\"character\")\n",
    "for i in range(len(a)):\n",
    "    if a[i]==b:\n",
    "        print(\"char found at \" ,i)\n",
    "        "
   ]
  },
  {
   "cell_type": "markdown",
   "metadata": {},
   "source": [
    "### wap that counts  the occurences of a char in a string without using count fn;"
   ]
  },
  {
   "cell_type": "code",
   "execution_count": 27,
   "metadata": {},
   "outputs": [
    {
     "name": "stdout",
     "output_type": "stream",
     "text": [
      "String: samarth\n",
      "charactera\n",
      "2\n"
     ]
    }
   ],
   "source": [
    "a=input(\"String: \")\n",
    "b=input(\"character\")\n",
    "c=0\n",
    "for i in range(len(a)):\n",
    "    if a[i]==b:\n",
    "        c=c+1\n",
    "print(c)"
   ]
  },
  {
   "cell_type": "markdown",
   "metadata": {},
   "source": [
    "### wap to count the no of char in a string"
   ]
  },
  {
   "cell_type": "code",
   "execution_count": 1,
   "metadata": {},
   "outputs": [
    {
     "name": "stdout",
     "output_type": "stream",
     "text": [
      "Enter String: google\n",
      "Counter({'g': 2, 'o': 2, 'l': 1, 'e': 1})\n"
     ]
    }
   ],
   "source": [
    "from collections import Counter\n",
    "\n",
    "a=input(\"Enter String: \")\n",
    "\n",
    "z=Counter(a)\n",
    "\n",
    "print(z)\n"
   ]
  },
  {
   "cell_type": "markdown",
   "metadata": {},
   "source": [
    "### wap to get  string from a gven string where all occurrences of its first character have been changed to dollar except the first char itself"
   ]
  },
  {
   "cell_type": "code",
   "execution_count": 11,
   "metadata": {},
   "outputs": [
    {
     "name": "stdout",
     "output_type": "stream",
     "text": [
      "Enter String ;resrttrtr\n",
      "res$tt$t$\n"
     ]
    }
   ],
   "source": [
    "a=input(\"Enter String ;\")\n",
    "c=a[0]\n",
    "b=a[0]+a[1:].replace(c,'$')\n",
    "print(b)"
   ]
  },
  {
   "cell_type": "code",
   "execution_count": 18,
   "metadata": {},
   "outputs": [
    {
     "name": "stdout",
     "output_type": "stream",
     "text": [
      "Enter ;adh\n",
      "hda\n"
     ]
    }
   ],
   "source": [
    "a=input(\"Enter ;\")\n",
    "b=list(a)\n",
    "b[0],b[len(b)-1]=b[len(b)-1],b[0]\n",
    "print(''.join(b))"
   ]
  },
  {
   "cell_type": "markdown",
   "metadata": {},
   "source": [
    "### wap to capitalize first and last letters of each word of a given string"
   ]
  },
  {
   "cell_type": "code",
   "execution_count": 13,
   "metadata": {},
   "outputs": [
    {
     "name": "stdout",
     "output_type": "stream",
     "text": [
      "Enter String :agf hho kk\n",
      "AgF HhO KK \n"
     ]
    }
   ],
   "source": [
    "b=input(\"Enter String :\")\n",
    "a=b.split(\" \")\n",
    "k=''\n",
    "for i in a:\n",
    "    k+=i[0].upper()+i[1:len(i)-1]+i[len(i)-1].upper()+\" \"\n",
    "print(k)"
   ]
  },
  {
   "cell_type": "markdown",
   "metadata": {},
   "source": [
    "### wap that count the occurence of a string from a specified pos"
   ]
  },
  {
   "cell_type": "markdown",
   "metadata": {},
   "source": [
    "### wap to parse an emailID to print from which email server it was sent and when"
   ]
  },
  {
   "cell_type": "markdown",
   "metadata": {},
   "source": [
    "### wap to remove leading zeroes from an IP address"
   ]
  },
  {
   "cell_type": "markdown",
   "metadata": {},
   "source": [
    "### 1 wap that creats a list of no from 1 to 20 that are either divisible by 2 or by 4\n",
    "\n",
    "### 2 construct a list of sqquare of numbers from m to n and display its sum\n",
    "\n",
    "### 3 create a list of number 1 to 10 and delete all even index no and display the result in a list\n",
    "\n",
    "### 4 wap to print the index at which a particular value exist if the value exist at more than 1 location then print all the indexes and also count the no of times the value is repeated in the list"
   ]
  },
  {
   "cell_type": "code",
   "execution_count": 1,
   "metadata": {},
   "outputs": [
    {
     "name": "stdout",
     "output_type": "stream",
     "text": [
      "[2, 4, 6, 8, 10, 12, 14, 16, 18, 20]\n"
     ]
    }
   ],
   "source": [
    "b=[]\n",
    "for i in range(1,21):\n",
    "    if i%2==0 or i%4==0:\n",
    "        b.append(i)\n",
    "print(b)"
   ]
  },
  {
   "cell_type": "code",
   "execution_count": 2,
   "metadata": {},
   "outputs": [
    {
     "name": "stdout",
     "output_type": "stream",
     "text": [
      "2\n",
      "8\n",
      "[8, 27, 64, 125, 216, 343, 512]\n",
      "1295\n"
     ]
    }
   ],
   "source": [
    "m=int(input())\n",
    "n=int(input())\n",
    "sum=0\n",
    "a=[]\n",
    "for i in range(m,n+1):\n",
    "    a.append(i**3)\n",
    "    sum+=i**3\n",
    "print(a)\n",
    "print(sum)"
   ]
  },
  {
   "cell_type": "code",
   "execution_count": 17,
   "metadata": {},
   "outputs": [
    {
     "name": "stdout",
     "output_type": "stream",
     "text": [
      "[1, 3, 5, 7, 9]\n"
     ]
    }
   ],
   "source": [
    "a=[]\n",
    "for i in range(11):\n",
    "    a.append(i)\n",
    "for i in range(0,6,1):\n",
    "    del a[i]\n",
    "print(a)"
   ]
  },
  {
   "cell_type": "code",
   "execution_count": 24,
   "metadata": {},
   "outputs": [
    {
     "name": "stdout",
     "output_type": "stream",
     "text": [
      "1\n",
      "0\n",
      "6\n",
      "9\n",
      "11\n",
      "4\n"
     ]
    }
   ],
   "source": [
    "a=[1,2,3,4,5,6,1,4,5,1,4,1]\n",
    "sum=0\n",
    "k=int(input())\n",
    "for i in range(len(a)):\n",
    "    if a[i]==k:\n",
    "        print(i)\n",
    "        sum+=1\n",
    "print(sum)"
   ]
  },
  {
   "cell_type": "markdown",
   "metadata": {},
   "source": [
    "### 1 join last name and first name of 2 list\n",
    "### 2 take an input of words to form a list. generate an o/p list containing only the first chars.Extend the version of this code to produce a ist containing only unique entries that is case insensitive.\n",
    "### 3 wap  to make a list of no's taking in view thr starting value and the ending value\n",
    "### 4 reverse a list "
   ]
  },
  {
   "cell_type": "code",
   "execution_count": 4,
   "metadata": {},
   "outputs": [
    {
     "name": "stdout",
     "output_type": "stream",
     "text": [
      "Enter no: 4\n",
      "sam\n",
      "ram\n",
      "gom\n",
      "pop\n",
      "Enter no: 3\n",
      "yo\n",
      "po\n",
      "go\n",
      "['sam yo', 'ram po', 'gom go', 'pop']\n"
     ]
    }
   ],
   "source": [
    "a=[input() for i in range(int(input(\"Enter no: \")))]\n",
    "b=[input() for i in range(int(input(\"Enter no: \")))]\n",
    "c=[]\n",
    "for i in range(len(b)):\n",
    "    c.append(a[i]+\" \"+b[i])\n",
    "c.extend(a[len(b):])\n",
    "print(c)"
   ]
  },
  {
   "cell_type": "code",
   "execution_count": 9,
   "metadata": {},
   "outputs": [
    {
     "name": "stdout",
     "output_type": "stream",
     "text": [
      "Python\n",
      "Jython\n",
      "java\n",
      "Voo\n",
      "coo\n",
      "{'p', 'v', 'c', 'j'}\n"
     ]
    }
   ],
   "source": [
    "a=[input() for i in range(5)]\n",
    "b=[]\n",
    "for i in range(len(a)):\n",
    "    b.append(a[i][0].lower())\n",
    "print(set(b))"
   ]
  },
  {
   "cell_type": "code",
   "execution_count": 10,
   "metadata": {},
   "outputs": [
    {
     "name": "stdout",
     "output_type": "stream",
     "text": [
      "[2, 7, 12]\n"
     ]
    }
   ],
   "source": [
    "a=[]\n",
    "for i in range(2,17,5):\n",
    "    a.append(i)\n",
    "print(a)"
   ]
  },
  {
   "cell_type": "code",
   "execution_count": 12,
   "metadata": {},
   "outputs": [
    {
     "name": "stdout",
     "output_type": "stream",
     "text": [
      "dcd\n",
      "frfwe\n",
      "efef\n",
      "ewref\n",
      "ewfewf\n",
      "['frfwe', 'ewref', 'ewfewf', 'efef', 'dcd']\n"
     ]
    }
   ],
   "source": [
    "o=[input() for i in range(5)]\n",
    "o.sort(reverse=True)\n",
    "print(o)"
   ]
  },
  {
   "cell_type": "markdown",
   "metadata": {},
   "source": [
    "### create a matrix"
   ]
  },
  {
   "cell_type": "code",
   "execution_count": null,
   "metadata": {},
   "outputs": [],
   "source": [
    "a=[]\n",
    "for i in range(3):\n",
    "    b=[]\n",
    "    for j in range(3):\n",
    "        b.append(int(input()))\n",
    "    a.append(b)\n",
    "print(a)     \n",
    "    "
   ]
  },
  {
   "cell_type": "markdown",
   "metadata": {},
   "source": [
    "### wap to find the list within a list of list whose sum of elements is highest\n",
    "### wap to insert a given string at the beginning of all the items in a list"
   ]
  },
  {
   "cell_type": "code",
   "execution_count": 1,
   "metadata": {},
   "outputs": [
    {
     "name": "stdout",
     "output_type": "stream",
     "text": [
      "1\n",
      "2\n",
      "3\n",
      "4\n",
      "5\n",
      "6\n",
      "7\n",
      "8\n",
      "9\n",
      "[6, 15, 24]\n",
      "max list is ;  [7, 8, 9]\n"
     ]
    }
   ],
   "source": [
    "a=[]\n",
    "for i in range(3):\n",
    "    b=[]\n",
    "    for j in range(3):\n",
    "        b.append(int(input()))\n",
    "    a.append(b)\n",
    "c=[sum(a[i]) for i in range(len(a))]\n",
    "print(\"max list is ; \",a[c.index(max(c))])       \n",
    "        "
   ]
  },
  {
   "cell_type": "code",
   "execution_count": 4,
   "metadata": {},
   "outputs": [
    {
     "name": "stdout",
     "output_type": "stream",
     "text": [
      "Enter no: 4\n",
      "1\n",
      "2\n",
      "3\n",
      "4\n",
      "emp\n",
      "['emp1', 'emp2', 'emp3']\n"
     ]
    }
   ],
   "source": [
    "a=[input() for i in range(int(input(\"Enter no: \")))]\n",
    "b=input() \n",
    "c=[]\n",
    "for i in range(len(b)):\n",
    "    c.append(b+a[i])\n",
    "print(c)"
   ]
  },
  {
   "cell_type": "code",
   "execution_count": 11,
   "metadata": {},
   "outputs": [
    {
     "name": "stdout",
     "output_type": "stream",
     "text": [
      "google\n",
      "geol\n"
     ]
    }
   ],
   "source": [
    "a=input()\n",
    "print(\"\".join(set(a)))"
   ]
  },
  {
   "cell_type": "code",
   "execution_count": 6,
   "metadata": {},
   "outputs": [
    {
     "name": "stdout",
     "output_type": "stream",
     "text": [
      "1 is at index :  0\n",
      "2 is at index :  1\n",
      "3 is at index :  2\n",
      "4 is at index :  3\n"
     ]
    }
   ],
   "source": [
    "lis=[1,2,3,4]\n",
    "for indx,i in enumerate(lis):\n",
    "    print(i, \"is at index : \", indx)"
   ]
  },
  {
   "cell_type": "code",
   "execution_count": 13,
   "metadata": {},
   "outputs": [
    {
     "name": "stdout",
     "output_type": "stream",
     "text": [
      "33 1\n"
     ]
    }
   ],
   "source": [
    "quo, rem=divmod(100,3)#returns quotient and remainder\n",
    "print(quo,  rem)"
   ]
  },
  {
   "cell_type": "code",
   "execution_count": 32,
   "metadata": {},
   "outputs": [
    {
     "name": "stdout",
     "output_type": "stream",
     "text": [
      "[33, 48, 2, 22, 23, 23, 50, 60, 4, 40]\n",
      "[48, 2, 22, 50, 60, 4, 40]\n",
      "[33, 23, 23]\n"
     ]
    }
   ],
   "source": [
    "# wap that creates a list of 10 random no then create 2 lists odd and even list\n",
    "import random\n",
    "a=[random.randrange(1,80) for i in range(10)]\n",
    "print(a)\n",
    "even=[i for i in a if i%2==0]\n",
    "odd=[i for i in a if i%2!=0]\n",
    "print(even)\n",
    "print(odd)"
   ]
  },
  {
   "cell_type": "code",
   "execution_count": 45,
   "metadata": {},
   "outputs": [
    {
     "name": "stdout",
     "output_type": "stream",
     "text": [
      "1\n",
      "2\n",
      "3\n",
      "4\n",
      "5\n",
      "6\n",
      "7\n",
      "8\n",
      "9\n",
      "[6.0, 3087.0, 25941639.0]\n"
     ]
    }
   ],
   "source": [
    "# using list comprehension create a list of no's based on op'n (x+pow(x,y))/2m +3\n",
    "def func():\n",
    "    x,y,m=int(input()),int(input()),int(input())\n",
    "    fun=(x+(x**y))/2*m +3\n",
    "    return fun\n",
    "a=[func() for i in range(3)]\n",
    "print(a)\n"
   ]
  },
  {
   "cell_type": "code",
   "execution_count": 50,
   "metadata": {},
   "outputs": [
    {
     "name": "stdout",
     "output_type": "stream",
     "text": [
      "4\n",
      "2\n",
      "8\n",
      "6\n",
      "2\n",
      "0\n",
      "[4, 2, 8, 6, 2]\n",
      "[2, 2, 4, 6, 8]\n",
      "[40, 20, 80, 60, 20]\n",
      "[20, 20, 40, 60, 80]\n"
     ]
    }
   ],
   "source": [
    "# take an input until user enters 0 .scale each element by a factor of 10 and dissplay the original and original sorted then modified and modified sorted list\n",
    "a=[]\n",
    "while True:\n",
    "    x=int(input())\n",
    "    if x==0:\n",
    "        break\n",
    "    else:\n",
    "        a.append(x)\n",
    "b=sorted(a)\n",
    "a1=[i*10 for i in a]\n",
    "c=sorted(a1)\n",
    "print(a)\n",
    "print(b)\n",
    "print(a1)\n",
    "print(c)"
   ]
  },
  {
   "cell_type": "code",
   "execution_count": 17,
   "metadata": {},
   "outputs": [],
   "source": [
    "# wap to split a list every mth element\n",
    "a=[i for i in range(12)]\n",
    "n=int(input())\n",
    "b=[]\n",
    "for i in range(12):\n",
    "    for i in range(3):\n",
    "        b.append(a[i])"
   ]
  },
  {
   "cell_type": "code",
   "execution_count": 18,
   "metadata": {},
   "outputs": [],
   "source": [
    "# wap to convert a list of no's into single integer"
   ]
  },
  {
   "cell_type": "code",
   "execution_count": 19,
   "metadata": {},
   "outputs": [],
   "source": [
    "# wap to create a list by concatenating a given list with range which goes from 1 to n"
   ]
  },
  {
   "cell_type": "code",
   "execution_count": 20,
   "metadata": {},
   "outputs": [],
   "source": [
    "# select a no randomly from a list if the no is a prime no, add a functionality to automatically close your editor"
   ]
  },
  {
   "cell_type": "markdown",
   "metadata": {},
   "source": [
    "### wap to get n copies of the first m chars of the string.return the n copies of the whole string if the entire string is from \n",
    "### mathematis teacher has given a task to geneerate a histogram from the given list of integers.take the  input  of the char using whichhistogram is to be produced\n",
    "### wap to find unique triplets whose sum of elements give 0 from an array of elements\n",
    "### wap that accepts a sequence of comma separated 4 digit binary no as its input and check whether they are divivsible by 5 or not. the nos that are divisible by 5 are to be printed as comma separated"
   ]
  },
  {
   "cell_type": "code",
   "execution_count": 2,
   "metadata": {},
   "outputs": [
    {
     "name": "stdout",
     "output_type": "stream",
     "text": [
      "Enter stringim\n",
      "8\n",
      "3\n",
      "im______"
     ]
    }
   ],
   "source": [
    "s=input(\"Enter string\")\n",
    "n,m=int(input()),int(input())\n",
    "if len(s)<m:\n",
    "    n=n-len(s)\n",
    "    print(s,end='_'*n)\n",
    "else:\n",
    "    print(s[:3]*n)"
   ]
  },
  {
   "cell_type": "code",
   "execution_count": 3,
   "metadata": {},
   "outputs": [
    {
     "name": "stdout",
     "output_type": "stream",
     "text": [
      "$\n",
      "$\n",
      "$$$$\n",
      "$$$$$\n",
      "$$$\n"
     ]
    }
   ],
   "source": [
    "l=[1,4,5,3]\n",
    "a=input()\n",
    "for i in l:\n",
    "    print(a*i)"
   ]
  },
  {
   "cell_type": "code",
   "execution_count": 16,
   "metadata": {},
   "outputs": [
    {
     "name": "stdout",
     "output_type": "stream",
     "text": [
      "4\n",
      "2\n",
      "1\n",
      "-3\n",
      "5\n",
      "2 1 -3\n",
      "2 -3 1\n",
      "1 2 -3\n",
      "1 -3 2\n",
      "-3 2 1\n",
      "-3 1 2\n"
     ]
    }
   ],
   "source": [
    "a=[int(input()) for i in range(int(input()))]\n",
    "for i in a:\n",
    "    for j in a:\n",
    "        for d in a:\n",
    "            if (i+j+d)==0 and i!=j!=d:\n",
    "                print(i,j,d)\n",
    "                br"
   ]
  },
  {
   "cell_type": "code",
   "execution_count": 13,
   "metadata": {},
   "outputs": [
    {
     "name": "stdout",
     "output_type": "stream",
     "text": [
      "0100,1010,0011,1001\n",
      "5\n",
      "1010\n"
     ]
    }
   ],
   "source": [
    "e=input().split(',')\n",
    "a=[i for i in e]\n",
    "z=int(input())\n",
    "b=[int(i,2) for i in a]\n",
    "for i in range(len(b)):\n",
    "    if b[i]%z==0:\n",
    "        print(a[i])"
   ]
  },
  {
   "cell_type": "code",
   "execution_count": 7,
   "metadata": {},
   "outputs": [
    {
     "name": "stdout",
     "output_type": "stream",
     "text": [
      "('aman', 'bsc', 92)\n",
      "('ash', 'btech', 92.7)\n",
      "('aryan', 'bca', 91)\n",
      "('ank', 'bsc-hm', 82.7)\n",
      "Want to edit?? y\n",
      "Enter name!!!aman\n",
      "New name!!!aa\n",
      "Enter course!!!ss\n",
      "Enter perc!!!33\n",
      "[('aa', 'ss', 33), ('ash', 'btech', 92.7), ('aryan', 'bca', 91), ('ank', 'bsc-hm', 82.7)]\n"
     ]
    }
   ],
   "source": [
    "# using nested list of tuples to store topper details edit the details and reprint the details.default value of toppers as given. the o/p should be in the required format. Enter the name of the student whose details are to be edited.\n",
    "# Enter the correct name .course and percentage\n",
    "toppers = [('aman','bsc',92),('ash','btech',92.7),('aryan','bca',91),('ank','bsc-hm',82.7)]\n",
    "for i in toppers:\n",
    "    print(i)\n",
    "ques=input(\"Want to edit?? \")\n",
    "if ques=='y':\n",
    "    n=input('Enter name!!!')\n",
    "    for i in range(len(toppers)):\n",
    "        if toppers[i][0]==n:\n",
    "            nn=input('New name!!!')\n",
    "            co=input('Enter course!!!')\n",
    "            per=int(input('Enter perc!!!'))\n",
    "            toppers[i]=(nn,co,per)\n",
    "print(toppers)"
   ]
  },
  {
   "cell_type": "code",
   "execution_count": null,
   "metadata": {},
   "outputs": [
    {
     "name": "stdout",
     "output_type": "stream",
     "text": [
      "Nter no of tuples!!!3\n"
     ]
    }
   ],
   "source": [
    "# you are required to wap to sort the name,age,height ,tuples by ascending order where the name id str, height and age is no. the sorting criteria is 1 Sort based on name  2 sort based on age 3 sort by height\n",
    "a=[]\n",
    "n=int(input(\"Nter no of tuples!!!\"))\n",
    "for i in range(n):\n",
    "    a.append((input(\"Enter name\"),int(input(\"Enter age!!\")),int(input(\"Enter height!!!\"))))\n",
    "b=sorted(a,key=lambda t: t[0])\n",
    "print(b)"
   ]
  },
  {
   "cell_type": "code",
   "execution_count": 3,
   "metadata": {},
   "outputs": [
    {
     "name": "stdout",
     "output_type": "stream",
     "text": [
      "Enter para!!!my my name name is di\n",
      "Counter({'my': 2, 'name': 2, 'is': 1, 'di': 1})\n"
     ]
    }
   ],
   "source": [
    "#taking i/p of a default pargraph print freq of each word\n",
    "from collections import Counter\n",
    "a=input(\"Enter para!!!\")\n",
    "b=a.split()\n",
    "c=Counter(b)\n",
    "print(c)"
   ]
  },
  {
   "cell_type": "markdown",
   "metadata": {},
   "source": [
    "### set methods"
   ]
  },
  {
   "cell_type": "code",
   "execution_count": null,
   "metadata": {},
   "outputs": [],
   "source": [
    "s.update(t)\n",
    "s.copy(t)\n",
    "s.difference(t)\n",
    "s.difference_update(t)\n",
    "s.intersection(t)\n",
    "s.intersection_update(t)\n",
    "s.add(x)\n",
    "s.remove(x)\n",
    "s.discard(x)\n",
    "s.symmetric_difference(t)\n",
    "s.isdisjoint(t)\n",
    "s.pop(x)\n",
    "s.subset(t)\n",
    "s.superset(t)"
   ]
  },
  {
   "cell_type": "markdown",
   "metadata": {},
   "source": [
    "### dictionary methods"
   ]
  },
  {
   "cell_type": "code",
   "execution_count": 4,
   "metadata": {},
   "outputs": [
    {
     "name": "stdout",
     "output_type": "stream",
     "text": [
      "{'name': 'Student', 'marks': 99}\n"
     ]
    }
   ],
   "source": [
    "st={'name':'Student'}\n",
    "st['marks']=99\n",
    "print(st)"
   ]
  },
  {
   "cell_type": "code",
   "execution_count": null,
   "metadata": {},
   "outputs": [],
   "source": []
  },
  {
   "cell_type": "code",
   "execution_count": null,
   "metadata": {},
   "outputs": [],
   "source": [
    "dict.pop()\n",
    "dict.popitem()#random deletion\n",
    "#for i in dict:\n",
    "#for i in dict.keys:\n",
    "#for i in dict.values:\n",
    "#for key,values in dict.items():\n",
    "sorted()\n",
    "len()\n",
    "str()\n",
    "str(dict)#typecasts dictionary into string\n",
    "dict.copy()#returns shadow copy of the dictionary\n",
    "dict.fromkeys(sequence(value))# typecast into dictionary\n",
    "dict.get('')#returns value\n"
   ]
  },
  {
   "cell_type": "code",
   "execution_count": 3,
   "metadata": {},
   "outputs": [
    {
     "name": "stdout",
     "output_type": "stream",
     "text": [
      "4\n"
     ]
    }
   ],
   "source": [
    "#wap that has a dict of state and codes.add another state into the predefined dict. print all the items of the dictionary and try to print code for a state that does not exist\n",
    "#wap that creates a dict of radius and correspondining circumference\n",
    "#create 2 dict .one that stores conversion of values from m to cm and another for  cm to  m using dict comprehension\n"
   ]
  },
  {
   "cell_type": "code",
   "execution_count": 12,
   "metadata": {},
   "outputs": [
    {
     "name": "stdout",
     "output_type": "stream",
     "text": [
      "Enter a 2 digit no45\n",
      "['jm', 'jn', 'jo', 'km', 'kn', 'ko', 'lm', 'ln', 'lo']\n"
     ]
    }
   ],
   "source": [
    "#a task is given to students to compute the combination of all combinations given in a dict\n",
    "mapp={1:'abc',2:'def',3:'ghi',4:'jkl',5:'mno',6:'pqrs',7:'tuv',8:'wxy',9:'z'}\n",
    "out=[]\n",
    "q=int(input(\"Enter a 2 digit no\"))\n",
    "t=q%10\n",
    "o=q//10\n",
    "s1=\"\"\n",
    "s2=\"\"\n",
    "for k, v in mapp.items():\n",
    "    if o==k:\n",
    "        s1=v\n",
    "    if t==k:\n",
    "        s2=v\n",
    "for i in range(len(s1)):\n",
    "    for j in range(len(s2)):\n",
    "        out.append(s1[i]+\"\"+s2[j])\n",
    "print(out)"
   ]
  },
  {
   "cell_type": "code",
   "execution_count": 11,
   "metadata": {},
   "outputs": [
    {
     "name": "stdout",
     "output_type": "stream",
     "text": [
      "Enter a no3\n",
      "ss\n",
      "rr\n",
      "yy\n",
      "{'ss': {'rr': {'yy': {}}}}\n"
     ]
    }
   ],
   "source": [
    "#given a dynamic list of words entered by the user. generate a dict given as\n",
    "a=[input() for i in range(int(input(\"Enter a no\")))]\n",
    "ddict = {}\n",
    "for k in reversed(a):\n",
    "    ddict = {k: ddict}\n",
    "print(ddict)"
   ]
  },
  {
   "cell_type": "code",
   "execution_count": null,
   "metadata": {},
   "outputs": [],
   "source": []
  }
 ],
 "metadata": {
  "kernelspec": {
   "display_name": "Python 3",
   "language": "python",
   "name": "python3"
  },
  "language_info": {
   "codemirror_mode": {
    "name": "ipython",
    "version": 3
   },
   "file_extension": ".py",
   "mimetype": "text/x-python",
   "name": "python",
   "nbconvert_exporter": "python",
   "pygments_lexer": "ipython3",
   "version": "3.7.3"
  }
 },
 "nbformat": 4,
 "nbformat_minor": 2
}
